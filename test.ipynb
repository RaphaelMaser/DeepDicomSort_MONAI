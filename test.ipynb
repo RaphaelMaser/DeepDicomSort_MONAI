{
 "cells": [
  {
   "cell_type": "code",
   "execution_count": 1,
   "metadata": {},
   "outputs": [
    {
     "name": "stderr",
     "output_type": "stream",
     "text": [
      "2023-09-02 12:49:15.453073: I tensorflow/core/platform/cpu_feature_guard.cc:182] This TensorFlow binary is optimized to use available CPU instructions in performance-critical operations.\n",
      "To enable the following instructions: SSE4.1 SSE4.2 AVX AVX2 FMA, in other operations, rebuild TensorFlow with the appropriate compiler flags.\n"
     ]
    }
   ],
   "source": [
    "from utils import predict\n",
    "import importlib\n",
    "import nibabel as nib\n",
    "from monai.transforms import Compose, LoadImaged, Orientationd, AsChannelLastd, ScaleIntensityd, Resized, AsChannelFirstd\n",
    "from monai.transforms import Compose, LoadImage, Orientation, AsChannelLast, ScaleIntensity, Resize, AsChannelFirst, SplitDimd, ToNumpyd\n",
    "import yaml\n",
    "from yaml import Loader\n",
    "import pandas as pd\n",
    "import csv"
   ]
  },
  {
   "cell_type": "code",
   "execution_count": null,
   "metadata": {},
   "outputs": [],
   "source": [
    "# importlib.reload(utils)\n",
    "# utils.discover_files('/home/raffi/Projects/DeepDicomSort_MONAI/data/Brain-Tumor-Progression')"
   ]
  },
  {
   "cell_type": "code",
   "execution_count": null,
   "metadata": {},
   "outputs": [],
   "source": [
    "i = 5\n",
    "def gen(i):\n",
    "    for k in range(i):\n",
    "        yield k"
   ]
  },
  {
   "cell_type": "code",
   "execution_count": null,
   "metadata": {},
   "outputs": [],
   "source": [
    "generator = gen(i)"
   ]
  },
  {
   "cell_type": "code",
   "execution_count": null,
   "metadata": {},
   "outputs": [],
   "source": [
    "generator.__next__()"
   ]
  },
  {
   "cell_type": "code",
   "execution_count": 17,
   "metadata": {},
   "outputs": [
    {
     "data": {
      "text/plain": [
       "(280, 320, 22)"
      ]
     },
     "execution_count": 17,
     "metadata": {},
     "output_type": "execute_result"
    }
   ],
   "source": [
    "path = \"data/Brain-Tumor-Progression_nifti/B_Ax_T1_+C/PGBM-005.nii\"\n",
    "image = nib.load(path)\n",
    "image.shape"
   ]
  },
  {
   "cell_type": "code",
   "execution_count": 47,
   "metadata": {},
   "outputs": [
    {
     "data": {
      "text/plain": [
       "dict_keys(['image', 'image_meta_dict', 'image_0', 'image_1', 'image_2', 'image_3', 'image_4', 'image_5', 'image_6', 'image_7', 'image_8', 'image_9', 'image_10', 'image_11', 'image_12', 'image_13', 'image_14', 'image_15', 'image_16', 'image_17', 'image_18', 'image_19', 'image_20', 'image_21', 'image_22', 'image_23', 'image_24'])"
      ]
     },
     "metadata": {},
     "output_type": "display_data"
    },
    {
     "data": {
      "text/plain": [
       "(1, 256, 256)"
      ]
     },
     "execution_count": 47,
     "metadata": {},
     "output_type": "execute_result"
    }
   ],
   "source": [
    "transforms = Compose([\n",
    "        LoadImaged(keys=[\"image\"], reader=\"NibabelReader\", ensure_channel_first=True),\n",
    "        Orientationd(keys=[\"image\"], axcodes=\"RAS\"),\n",
    "        Resized(keys=[\"image\"], spatial_size=[256, 256, 25], mode=\"trilinear\"),\n",
    "        SplitDimd(keys=[\"image\"], dim=3, keepdim=False),\n",
    "        ScaleIntensityd(keys=[f\"image_{i}\" for i in range(25)], minv=0, maxv=1, channel_wise=True),\n",
    "        ToNumpyd(keys=[f\"image_{i}\" for i in range(25)])\n",
    "    ])\n",
    "output = transforms({\"image\": path})\n",
    "display(output.keys())\n",
    "output[\"image_0\"].shape"
   ]
  },
  {
   "cell_type": "code",
   "execution_count": 50,
   "metadata": {},
   "outputs": [
    {
     "name": "stdout",
     "output_type": "stream",
     "text": [
      "Found DICOM images\n",
      "Data already converted.\n",
      "Create dataset\n",
      "Loading cached output\n"
     ]
    },
    {
     "data": {
      "text/html": [
       "<div>\n",
       "<style scoped>\n",
       "    .dataframe tbody tr th:only-of-type {\n",
       "        vertical-align: middle;\n",
       "    }\n",
       "\n",
       "    .dataframe tbody tr th {\n",
       "        vertical-align: top;\n",
       "    }\n",
       "\n",
       "    .dataframe thead th {\n",
       "        text-align: right;\n",
       "    }\n",
       "</style>\n",
       "<table border=\"1\" class=\"dataframe\">\n",
       "  <thead>\n",
       "    <tr style=\"text-align: right;\">\n",
       "      <th></th>\n",
       "      <th>label</th>\n",
       "      <th>prediction</th>\n",
       "      <th>count</th>\n",
       "    </tr>\n",
       "  </thead>\n",
       "  <tbody>\n",
       "    <tr>\n",
       "      <th>0</th>\n",
       "      <td>b'B Ax T1 +C'</td>\n",
       "      <td>0</td>\n",
       "      <td>30</td>\n",
       "    </tr>\n",
       "    <tr>\n",
       "      <th>7</th>\n",
       "      <td>b'B T1 AXIAL SE +'</td>\n",
       "      <td>1</td>\n",
       "      <td>78</td>\n",
       "    </tr>\n",
       "    <tr>\n",
       "      <th>12</th>\n",
       "      <td>b'Brain RCBV'</td>\n",
       "      <td>1</td>\n",
       "      <td>15</td>\n",
       "    </tr>\n",
       "    <tr>\n",
       "      <th>17</th>\n",
       "      <td>b'PWI 8CH RCBV/15'</td>\n",
       "      <td>1</td>\n",
       "      <td>20</td>\n",
       "    </tr>\n",
       "  </tbody>\n",
       "</table>\n",
       "</div>"
      ],
      "text/plain": [
       "                 label  prediction  count\n",
       "0        b'B Ax T1 +C'           0     30\n",
       "7   b'B T1 AXIAL SE +'           1     78\n",
       "12       b'Brain RCBV'           1     15\n",
       "17  b'PWI 8CH RCBV/15'           1     20"
      ]
     },
     "metadata": {},
     "output_type": "display_data"
    },
    {
     "data": {
      "text/html": [
       "<div>\n",
       "<style scoped>\n",
       "    .dataframe tbody tr th:only-of-type {\n",
       "        vertical-align: middle;\n",
       "    }\n",
       "\n",
       "    .dataframe tbody tr th {\n",
       "        vertical-align: top;\n",
       "    }\n",
       "\n",
       "    .dataframe thead th {\n",
       "        text-align: right;\n",
       "    }\n",
       "</style>\n",
       "<table border=\"1\" class=\"dataframe\">\n",
       "  <thead>\n",
       "    <tr style=\"text-align: right;\">\n",
       "      <th></th>\n",
       "      <th>prediction</th>\n",
       "      <th>label</th>\n",
       "    </tr>\n",
       "  </thead>\n",
       "  <tbody>\n",
       "    <tr>\n",
       "      <th>0</th>\n",
       "      <td>0</td>\n",
       "      <td>[b'B Ax T1 +C']</td>\n",
       "    </tr>\n",
       "    <tr>\n",
       "      <th>1</th>\n",
       "      <td>1</td>\n",
       "      <td>[b'B T1 AXIAL SE +', b'Brain RCBV', b'PWI 8CH ...</td>\n",
       "    </tr>\n",
       "  </tbody>\n",
       "</table>\n",
       "</div>"
      ],
      "text/plain": [
       "   prediction                                              label\n",
       "0           0                                    [b'B Ax T1 +C']\n",
       "1           1  [b'B T1 AXIAL SE +', b'Brain RCBV', b'PWI 8CH ..."
      ]
     },
     "metadata": {},
     "output_type": "display_data"
    }
   ],
   "source": [
    "importlib.reload(predict)\n",
    "output = predict.run(\"data/Brain-Tumor-Progression\", \"ProtocolName\")\n",
    "output[\"prediction\"] = output[\"prediction\"]\n",
    "output[\"label\"] = output[\"label\"]\n",
    "pd.set_option('display.max_rows', 500)\n",
    "#display(pd.DataFrame(output))\n",
    "\n",
    "output_df = predict.get_majority_vote(output)\n",
    "display(output_df.head(20))\n",
    "display(output_df.groupby(\"prediction\").agg({\"label\": lambda x: list(x)}).reset_index())"
   ]
  },
  {
   "cell_type": "code",
   "execution_count": null,
   "metadata": {},
   "outputs": [],
   "source": [
    "importlib.reload(predict)\n",
    "filter = predict.construct_regex(output_df)\n",
    "display(filter)"
   ]
  },
  {
   "cell_type": "code",
   "execution_count": null,
   "metadata": {},
   "outputs": [],
   "source": [
    "with open('config.yaml', 'r') as ymlfile:\n",
    "    config = yaml.load(ymlfile, Loader=Loader)\n",
    "config"
   ]
  },
  {
   "cell_type": "code",
   "execution_count": 8,
   "metadata": {},
   "outputs": [
    {
     "data": {
      "text/plain": [
       "['/input/NIFTI_SLICES/PGBM-018__19930218__MR__1.3.6.1.4.1.14519.5.2.1.4429.7055.816964431247986743876504511902__1.3.6.1.4.1.14519.5.2.1.4429.7055.264938771600653383755230242737_24.nii.gz',\n",
       " '2',\n",
       " '0']"
      ]
     },
     "metadata": {},
     "output_type": "display_data"
    },
    {
     "data": {
      "text/html": [
       "<div>\n",
       "<style scoped>\n",
       "    .dataframe tbody tr th:only-of-type {\n",
       "        vertical-align: middle;\n",
       "    }\n",
       "\n",
       "    .dataframe tbody tr th {\n",
       "        vertical-align: top;\n",
       "    }\n",
       "\n",
       "    .dataframe thead th {\n",
       "        text-align: right;\n",
       "    }\n",
       "</style>\n",
       "<table border=\"1\" class=\"dataframe\">\n",
       "  <thead>\n",
       "    <tr style=\"text-align: right;\">\n",
       "      <th></th>\n",
       "      <th>/input/NIFTI_SLICES/PGBM-011__19890629__MR__1.3.6.1.4.1.14519.5.2.1.4429.7055.223438270011735412196259897437__1.3.6.1.4.1.14519.5.2.1.4429.7055.418756081736560414491870730948_3.nii.gz</th>\n",
       "      <th>2</th>\n",
       "      <th>0</th>\n",
       "    </tr>\n",
       "  </thead>\n",
       "  <tbody>\n",
       "    <tr>\n",
       "      <th>0</th>\n",
       "      <td>/input/NIFTI_SLICES/PGBM-018__19930218__MR__1....</td>\n",
       "      <td>2</td>\n",
       "      <td>0</td>\n",
       "    </tr>\n",
       "    <tr>\n",
       "      <th>1</th>\n",
       "      <td>/input/NIFTI_SLICES/PGBM-006__19961210__MR__1....</td>\n",
       "      <td>2</td>\n",
       "      <td>0</td>\n",
       "    </tr>\n",
       "    <tr>\n",
       "      <th>2</th>\n",
       "      <td>/input/NIFTI_SLICES/PGBM-019__19911002__MR__1....</td>\n",
       "      <td>1</td>\n",
       "      <td>0</td>\n",
       "    </tr>\n",
       "    <tr>\n",
       "      <th>3</th>\n",
       "      <td>/input/NIFTI_SLICES/PGBM-018__19930218__MR__1....</td>\n",
       "      <td>2</td>\n",
       "      <td>0</td>\n",
       "    </tr>\n",
       "    <tr>\n",
       "      <th>4</th>\n",
       "      <td>/input/NIFTI_SLICES/PGBM-015__19920512__MR__1....</td>\n",
       "      <td>2</td>\n",
       "      <td>0</td>\n",
       "    </tr>\n",
       "    <tr>\n",
       "      <th>5</th>\n",
       "      <td>/input/NIFTI_SLICES/PGBM-005__19910702__MR__1....</td>\n",
       "      <td>2</td>\n",
       "      <td>0</td>\n",
       "    </tr>\n",
       "    <tr>\n",
       "      <th>6</th>\n",
       "      <td>/input/NIFTI_SLICES/PGBM-011__19890824__MR__1....</td>\n",
       "      <td>2</td>\n",
       "      <td>0</td>\n",
       "    </tr>\n",
       "    <tr>\n",
       "      <th>7</th>\n",
       "      <td>/input/NIFTI_SLICES/PGBM-011__19890629__MR__1....</td>\n",
       "      <td>2</td>\n",
       "      <td>0</td>\n",
       "    </tr>\n",
       "    <tr>\n",
       "      <th>8</th>\n",
       "      <td>/input/NIFTI_SLICES/PGBM-006__19961210__MR__1....</td>\n",
       "      <td>2</td>\n",
       "      <td>0</td>\n",
       "    </tr>\n",
       "    <tr>\n",
       "      <th>9</th>\n",
       "      <td>/input/NIFTI_SLICES/PGBM-018__19930415__MR__1....</td>\n",
       "      <td>2</td>\n",
       "      <td>0</td>\n",
       "    </tr>\n",
       "    <tr>\n",
       "      <th>10</th>\n",
       "      <td>/input/NIFTI_SLICES/PGBM-010__19920618__MR__1....</td>\n",
       "      <td>2</td>\n",
       "      <td>0</td>\n",
       "    </tr>\n",
       "    <tr>\n",
       "      <th>11</th>\n",
       "      <td>/input/NIFTI_SLICES/PGBM-013__19890918__MR__1....</td>\n",
       "      <td>2</td>\n",
       "      <td>0</td>\n",
       "    </tr>\n",
       "    <tr>\n",
       "      <th>12</th>\n",
       "      <td>/input/NIFTI_SLICES/PGBM-013__19890918__MR__1....</td>\n",
       "      <td>2</td>\n",
       "      <td>0</td>\n",
       "    </tr>\n",
       "    <tr>\n",
       "      <th>13</th>\n",
       "      <td>/input/NIFTI_SLICES/PGBM-005__19910702__MR__1....</td>\n",
       "      <td>2</td>\n",
       "      <td>0</td>\n",
       "    </tr>\n",
       "    <tr>\n",
       "      <th>14</th>\n",
       "      <td>/input/NIFTI_SLICES/PGBM-019__19911002__MR__1....</td>\n",
       "      <td>1</td>\n",
       "      <td>0</td>\n",
       "    </tr>\n",
       "    <tr>\n",
       "      <th>15</th>\n",
       "      <td>/input/NIFTI_SLICES/PGBM-020__19891109__MR__1....</td>\n",
       "      <td>2</td>\n",
       "      <td>0</td>\n",
       "    </tr>\n",
       "    <tr>\n",
       "      <th>16</th>\n",
       "      <td>/input/NIFTI_SLICES/PGBM-003__19950329__MR__1....</td>\n",
       "      <td>2</td>\n",
       "      <td>0</td>\n",
       "    </tr>\n",
       "    <tr>\n",
       "      <th>17</th>\n",
       "      <td>/input/NIFTI_SLICES/PGBM-019__19911002__MR__1....</td>\n",
       "      <td>1</td>\n",
       "      <td>0</td>\n",
       "    </tr>\n",
       "    <tr>\n",
       "      <th>18</th>\n",
       "      <td>/input/NIFTI_SLICES/PGBM-009__19880512__MR__1....</td>\n",
       "      <td>2</td>\n",
       "      <td>0</td>\n",
       "    </tr>\n",
       "    <tr>\n",
       "      <th>19</th>\n",
       "      <td>/input/NIFTI_SLICES/PGBM-013__19890918__MR__1....</td>\n",
       "      <td>2</td>\n",
       "      <td>0</td>\n",
       "    </tr>\n",
       "  </tbody>\n",
       "</table>\n",
       "</div>"
      ],
      "text/plain": [
       "   /input/NIFTI_SLICES/PGBM-011__19890629__MR__1.3.6.1.4.1.14519.5.2.1.4429.7055.223438270011735412196259897437__1.3.6.1.4.1.14519.5.2.1.4429.7055.418756081736560414491870730948_3.nii.gz  \\\n",
       "0   /input/NIFTI_SLICES/PGBM-018__19930218__MR__1....                                                                                                                                        \n",
       "1   /input/NIFTI_SLICES/PGBM-006__19961210__MR__1....                                                                                                                                        \n",
       "2   /input/NIFTI_SLICES/PGBM-019__19911002__MR__1....                                                                                                                                        \n",
       "3   /input/NIFTI_SLICES/PGBM-018__19930218__MR__1....                                                                                                                                        \n",
       "4   /input/NIFTI_SLICES/PGBM-015__19920512__MR__1....                                                                                                                                        \n",
       "5   /input/NIFTI_SLICES/PGBM-005__19910702__MR__1....                                                                                                                                        \n",
       "6   /input/NIFTI_SLICES/PGBM-011__19890824__MR__1....                                                                                                                                        \n",
       "7   /input/NIFTI_SLICES/PGBM-011__19890629__MR__1....                                                                                                                                        \n",
       "8   /input/NIFTI_SLICES/PGBM-006__19961210__MR__1....                                                                                                                                        \n",
       "9   /input/NIFTI_SLICES/PGBM-018__19930415__MR__1....                                                                                                                                        \n",
       "10  /input/NIFTI_SLICES/PGBM-010__19920618__MR__1....                                                                                                                                        \n",
       "11  /input/NIFTI_SLICES/PGBM-013__19890918__MR__1....                                                                                                                                        \n",
       "12  /input/NIFTI_SLICES/PGBM-013__19890918__MR__1....                                                                                                                                        \n",
       "13  /input/NIFTI_SLICES/PGBM-005__19910702__MR__1....                                                                                                                                        \n",
       "14  /input/NIFTI_SLICES/PGBM-019__19911002__MR__1....                                                                                                                                        \n",
       "15  /input/NIFTI_SLICES/PGBM-020__19891109__MR__1....                                                                                                                                        \n",
       "16  /input/NIFTI_SLICES/PGBM-003__19950329__MR__1....                                                                                                                                        \n",
       "17  /input/NIFTI_SLICES/PGBM-019__19911002__MR__1....                                                                                                                                        \n",
       "18  /input/NIFTI_SLICES/PGBM-009__19880512__MR__1....                                                                                                                                        \n",
       "19  /input/NIFTI_SLICES/PGBM-013__19890918__MR__1....                                                                                                                                        \n",
       "\n",
       "    2  0  \n",
       "0   2  0  \n",
       "1   2  0  \n",
       "2   1  0  \n",
       "3   2  0  \n",
       "4   2  0  \n",
       "5   2  0  \n",
       "6   2  0  \n",
       "7   2  0  \n",
       "8   2  0  \n",
       "9   2  0  \n",
       "10  2  0  \n",
       "11  2  0  \n",
       "12  2  0  \n",
       "13  2  0  \n",
       "14  1  0  \n",
       "15  2  0  \n",
       "16  2  0  \n",
       "17  1  0  \n",
       "18  2  0  \n",
       "19  2  0  "
      ]
     },
     "metadata": {},
     "output_type": "display_data"
    }
   ],
   "source": [
    "with open(\"/home/raffi/Projects/DeepDicomSortOwn/data/output/Predictions_model_all_brain_tumor_data.csv\", newline='') as f:\n",
    "    reader = csv.reader(f, delimiter=\"\\t\")\n",
    "    output = list(reader)\n",
    "display(output[1])\n",
    "\n",
    "with open(\"/home/raffi/Projects/DeepDicomSortOwn/data/output/Predictions_model_all_brain_tumor_data.csv\", newline='') as f:\n",
    "    df = pd.read_csv(f, delimiter=\"\\t\")\n",
    "display(df.head(20))"
   ]
  }
 ],
 "metadata": {
  "kernelspec": {
   "display_name": "DeepDicomSort_MONAI",
   "language": "python",
   "name": "python3"
  },
  "language_info": {
   "codemirror_mode": {
    "name": "ipython",
    "version": 3
   },
   "file_extension": ".py",
   "mimetype": "text/x-python",
   "name": "python",
   "nbconvert_exporter": "python",
   "pygments_lexer": "ipython3",
   "version": "3.11.5"
  },
  "orig_nbformat": 4
 },
 "nbformat": 4,
 "nbformat_minor": 2
}
