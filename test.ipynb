{
 "cells": [
  {
   "cell_type": "code",
   "execution_count": 4,
   "metadata": {},
   "outputs": [],
   "source": [
    "from utils import predict, data\n",
    "import importlib\n",
    "import nibabel as nib\n",
    "from monai.transforms import Compose, LoadImaged, Orientationd, AsChannelLastd, ScaleIntensityd, Resized, AsChannelFirstd\n",
    "from monai.transforms import Compose, LoadImage, Orientation, AsChannelLast, ScaleIntensity, Resize, AsChannelFirst, SplitDimd, ToNumpyd\n",
    "import yaml\n",
    "from yaml import Loader\n",
    "import pandas as pd\n",
    "import csv"
   ]
  },
  {
   "cell_type": "code",
   "execution_count": null,
   "metadata": {},
   "outputs": [],
   "source": [
    "# importlib.reload(utils)\n",
    "# utils.discover_files('/home/raffi/Projects/DeepDicomSort_MONAI/data/Brain-Tumor-Progression')"
   ]
  },
  {
   "cell_type": "code",
   "execution_count": null,
   "metadata": {},
   "outputs": [],
   "source": [
    "i = 5\n",
    "def gen(i):\n",
    "    for k in range(i):\n",
    "        yield k"
   ]
  },
  {
   "cell_type": "code",
   "execution_count": null,
   "metadata": {},
   "outputs": [],
   "source": [
    "generator = gen(i)"
   ]
  },
  {
   "cell_type": "code",
   "execution_count": null,
   "metadata": {},
   "outputs": [],
   "source": [
    "generator.__next__()"
   ]
  },
  {
   "cell_type": "code",
   "execution_count": null,
   "metadata": {},
   "outputs": [],
   "source": [
    "path = \"data/Brain-Tumor-Progression_nifti/B_Ax_T1_+C/PGBM-005.nii\"\n",
    "image = nib.load(path)\n",
    "image.shape"
   ]
  },
  {
   "cell_type": "code",
   "execution_count": null,
   "metadata": {},
   "outputs": [],
   "source": [
    "transforms = Compose([\n",
    "        LoadImaged(keys=[\"image\"], reader=\"NibabelReader\", ensure_channel_first=True),\n",
    "        Orientationd(keys=[\"image\"], axcodes=\"RAS\"),\n",
    "        Resized(keys=[\"image\"], spatial_size=[256, 256, 25], mode=\"trilinear\"),\n",
    "        SplitDimd(keys=[\"image\"], dim=3, keepdim=False),\n",
    "        ScaleIntensityd(keys=[f\"image_{i}\" for i in range(25)], minv=0, maxv=1, channel_wise=True),\n",
    "        ToNumpyd(keys=[f\"image_{i}\" for i in range(25)])\n",
    "    ])\n",
    "output = transforms({\"image\": path})\n",
    "display(output.keys())\n",
    "output[\"image_0\"].shape"
   ]
  },
  {
   "cell_type": "code",
   "execution_count": 56,
   "metadata": {},
   "outputs": [
    {
     "name": "stdout",
     "output_type": "stream",
     "text": [
      "Found DICOM images\n",
      "Data already converted.\n",
      "Create dataset\n",
      "Loading cached output\n",
      "Constructing bidsmap\n"
     ]
    },
    {
     "data": {
      "text/html": [
       "<div>\n",
       "<style scoped>\n",
       "    .dataframe tbody tr th:only-of-type {\n",
       "        vertical-align: middle;\n",
       "    }\n",
       "\n",
       "    .dataframe tbody tr th {\n",
       "        vertical-align: top;\n",
       "    }\n",
       "\n",
       "    .dataframe thead th {\n",
       "        text-align: right;\n",
       "    }\n",
       "</style>\n",
       "<table border=\"1\" class=\"dataframe\">\n",
       "  <thead>\n",
       "    <tr style=\"text-align: right;\">\n",
       "      <th></th>\n",
       "      <th>label</th>\n",
       "      <th>prediction</th>\n",
       "      <th>count</th>\n",
       "    </tr>\n",
       "  </thead>\n",
       "  <tbody>\n",
       "    <tr>\n",
       "      <th>5</th>\n",
       "      <td>ADC_reg</td>\n",
       "      <td>6</td>\n",
       "      <td>582</td>\n",
       "    </tr>\n",
       "    <tr>\n",
       "      <th>7</th>\n",
       "      <td>FLAIR_reg</td>\n",
       "      <td>0</td>\n",
       "      <td>395</td>\n",
       "    </tr>\n",
       "    <tr>\n",
       "      <th>13</th>\n",
       "      <td>Mask_Tumor</td>\n",
       "      <td>1</td>\n",
       "      <td>769</td>\n",
       "    </tr>\n",
       "    <tr>\n",
       "      <th>20</th>\n",
       "      <td>T1post</td>\n",
       "      <td>1</td>\n",
       "      <td>601</td>\n",
       "    </tr>\n",
       "    <tr>\n",
       "      <th>24</th>\n",
       "      <td>T1pre_reg</td>\n",
       "      <td>0</td>\n",
       "      <td>778</td>\n",
       "    </tr>\n",
       "    <tr>\n",
       "      <th>32</th>\n",
       "      <td>T2_reg</td>\n",
       "      <td>2</td>\n",
       "      <td>722</td>\n",
       "    </tr>\n",
       "    <tr>\n",
       "      <th>36</th>\n",
       "      <td>dT1</td>\n",
       "      <td>1</td>\n",
       "      <td>597</td>\n",
       "    </tr>\n",
       "    <tr>\n",
       "      <th>44</th>\n",
       "      <td>nCBF_reg</td>\n",
       "      <td>5</td>\n",
       "      <td>398</td>\n",
       "    </tr>\n",
       "    <tr>\n",
       "      <th>48</th>\n",
       "      <td>nRCBV_reg</td>\n",
       "      <td>1</td>\n",
       "      <td>392</td>\n",
       "    </tr>\n",
       "    <tr>\n",
       "      <th>56</th>\n",
       "      <td>sRCBV_reg</td>\n",
       "      <td>5</td>\n",
       "      <td>388</td>\n",
       "    </tr>\n",
       "  </tbody>\n",
       "</table>\n",
       "</div>"
      ],
      "text/plain": [
       "         label  prediction  count\n",
       "5      ADC_reg           6    582\n",
       "7    FLAIR_reg           0    395\n",
       "13  Mask_Tumor           1    769\n",
       "20      T1post           1    601\n",
       "24   T1pre_reg           0    778\n",
       "32      T2_reg           2    722\n",
       "36         dT1           1    597\n",
       "44    nCBF_reg           5    398\n",
       "48   nRCBV_reg           1    392\n",
       "56   sRCBV_reg           5    388"
      ]
     },
     "metadata": {},
     "output_type": "display_data"
    },
    {
     "data": {
      "text/html": [
       "<div>\n",
       "<style scoped>\n",
       "    .dataframe tbody tr th:only-of-type {\n",
       "        vertical-align: middle;\n",
       "    }\n",
       "\n",
       "    .dataframe tbody tr th {\n",
       "        vertical-align: top;\n",
       "    }\n",
       "\n",
       "    .dataframe thead th {\n",
       "        text-align: right;\n",
       "    }\n",
       "</style>\n",
       "<table border=\"1\" class=\"dataframe\">\n",
       "  <thead>\n",
       "    <tr style=\"text-align: right;\">\n",
       "      <th></th>\n",
       "      <th>prediction</th>\n",
       "      <th>label</th>\n",
       "    </tr>\n",
       "  </thead>\n",
       "  <tbody>\n",
       "    <tr>\n",
       "      <th>0</th>\n",
       "      <td>0</td>\n",
       "      <td>[FLAIR_reg, T1pre_reg]</td>\n",
       "    </tr>\n",
       "    <tr>\n",
       "      <th>1</th>\n",
       "      <td>1</td>\n",
       "      <td>[Mask_Tumor, T1post, dT1, nRCBV_reg]</td>\n",
       "    </tr>\n",
       "    <tr>\n",
       "      <th>2</th>\n",
       "      <td>2</td>\n",
       "      <td>[T2_reg]</td>\n",
       "    </tr>\n",
       "    <tr>\n",
       "      <th>3</th>\n",
       "      <td>5</td>\n",
       "      <td>[nCBF_reg, sRCBV_reg]</td>\n",
       "    </tr>\n",
       "    <tr>\n",
       "      <th>4</th>\n",
       "      <td>6</td>\n",
       "      <td>[ADC_reg]</td>\n",
       "    </tr>\n",
       "  </tbody>\n",
       "</table>\n",
       "</div>"
      ],
      "text/plain": [
       "   prediction                                 label\n",
       "0           0                [FLAIR_reg, T1pre_reg]\n",
       "1           1  [Mask_Tumor, T1post, dT1, nRCBV_reg]\n",
       "2           2                              [T2_reg]\n",
       "3           5                 [nCBF_reg, sRCBV_reg]\n",
       "4           6                             [ADC_reg]"
      ]
     },
     "metadata": {},
     "output_type": "display_data"
    },
    {
     "data": {
      "text/plain": [
       "{0: '(FLAIR_reg)|(T1pre_reg)',\n",
       " 1: '(Mask_Tumor)|(T1post)|(dT1)|(nRCBV_reg)',\n",
       " 2: '(T2_reg)',\n",
       " 5: '(nCBF_reg)|(sRCBV_reg)',\n",
       " 6: '(ADC_reg)'}"
      ]
     },
     "metadata": {},
     "output_type": "display_data"
    }
   ],
   "source": [
    "importlib.reload(predict)\n",
    "importlib.reload(data)\n",
    "output = predict.run(\"data/Brain-Tumor-Progression\", \"SeriesDescription\")\n",
    "output[\"prediction\"] = output[\"prediction\"]\n",
    "output[\"label\"] = output[\"label\"]\n",
    "pd.set_option('display.max_rows', 500)\n",
    "#display(pd.DataFrame(output))\n",
    "\n",
    "output_df = predict.get_majority_vote(output)\n",
    "display(output_df.head(20))\n",
    "display(output_df.groupby(\"prediction\").agg({\"label\": lambda x: list(x)}).reset_index())\n",
    "\n",
    "regex = predict.construct_regex(output_df)\n",
    "display(regex)"
   ]
  },
  {
   "cell_type": "code",
   "execution_count": 55,
   "metadata": {},
   "outputs": [
    {
     "name": "stdout",
     "output_type": "stream",
     "text": [
      "Found DICOM images\n",
      "Data already converted.\n",
      "Create dataset\n",
      "Loading cached output\n",
      "Constructing bidsmap\n"
     ]
    }
   ],
   "source": [
    "importlib.reload(predict)\n",
    "importlib.reload(data)\n",
    "output = predict.run(\"data/Brain-Tumor-Progression\", \"SeriesDescription\")\n"
   ]
  },
  {
   "cell_type": "code",
   "execution_count": null,
   "metadata": {},
   "outputs": [],
   "source": [
    "importlib.reload(predict)\n",
    "filter = predict.construct_regex(output_df)\n",
    "display(filter)"
   ]
  },
  {
   "cell_type": "code",
   "execution_count": null,
   "metadata": {},
   "outputs": [],
   "source": [
    "with open('config.yaml', 'r') as ymlfile:\n",
    "    config = yaml.load(ymlfile, Loader=Loader)\n",
    "config"
   ]
  },
  {
   "cell_type": "code",
   "execution_count": null,
   "metadata": {},
   "outputs": [],
   "source": [
    "with open(\"/home/raffi/Projects/DeepDicomSortOwn/data/output/Predictions_model_all_brain_tumor_data.csv\", newline='') as f:\n",
    "    reader = csv.reader(f, delimiter=\"\\t\")\n",
    "    output = list(reader)\n",
    "display(output[1])\n",
    "\n",
    "with open(\"/home/raffi/Projects/DeepDicomSortOwn/data/output/Predictions_model_all_brain_tumor_data.csv\", newline='') as f:\n",
    "    df = pd.read_csv(f, delimiter=\"\\t\")\n",
    "display(df.head(20))"
   ]
  }
 ],
 "metadata": {
  "kernelspec": {
   "display_name": "DeepDicomSort_MONAI",
   "language": "python",
   "name": "python3"
  },
  "language_info": {
   "codemirror_mode": {
    "name": "ipython",
    "version": 3
   },
   "file_extension": ".py",
   "mimetype": "text/x-python",
   "name": "python",
   "nbconvert_exporter": "python",
   "pygments_lexer": "ipython3",
   "version": "3.11.5"
  },
  "orig_nbformat": 4
 },
 "nbformat": 4,
 "nbformat_minor": 2
}
